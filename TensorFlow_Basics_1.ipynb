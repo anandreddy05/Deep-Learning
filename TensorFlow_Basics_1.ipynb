{
 "cells": [
  {
   "cell_type": "code",
   "execution_count": 1,
   "id": "16733c88-be4b-4b40-aee3-76872f9468f2",
   "metadata": {},
   "outputs": [],
   "source": [
    "import tensorflow as tf"
   ]
  },
  {
   "cell_type": "markdown",
   "id": "4eec2717-053e-49c9-8e62-c304505aba14",
   "metadata": {},
   "source": [
    "# Tensorflow\n",
    "- Tensorflow is a framework from google that is usefull to develop Machine Learning models and Deep learning models\n",
    "### In Tensorflow: -\n",
    "- Tensor -> Vector or Mulitidimentional Array\n",
    "- Flow -> Represents the graph of operations\n",
    "### Properties of Tensor: -\n",
    "- A unique label (name)\n",
    "- A dimention (shape)\n",
    "- A data type (dtype)\n",
    "### Types of Tensors: -\n",
    "- tf.constant\n",
    "- tf.Variable\n",
    "- tf.Tensor\n",
    "- tf.SparseTensor"
   ]
  },
  {
   "cell_type": "markdown",
   "id": "b1ac7b7a-c73c-447f-bf09-0d26528e4712",
   "metadata": {},
   "source": [
    "## Constant Tensor"
   ]
  },
  {
   "cell_type": "code",
   "execution_count": 15,
   "id": "1e81ac97-49a3-4130-9be4-22cdf9948159",
   "metadata": {},
   "outputs": [
    {
     "name": "stdout",
     "output_type": "stream",
     "text": [
      "c1:  tf.Tensor(10, shape=(), dtype=int32)\n",
      "c2:  tf.Tensor(10, shape=(), dtype=int16)\n",
      "c3:  tf.Tensor(b'Hello Tensorflow', shape=(), dtype=string)\n"
     ]
    }
   ],
   "source": [
    "# tf.constsnt(value,dtype,name=\"\")\n",
    "import tensorflow as tf\n",
    "c1 = tf.constant(10)\n",
    "print(\"c1: \",c1)\n",
    "c2 = tf.constant(10,tf.int16,name=\"My const\")\n",
    "print(\"c2: \",c2)\n",
    "c3 = tf.constant(\"Hello Tensorflow\")\n",
    "print(\"c3: \",c3)"
   ]
  },
  {
   "cell_type": "markdown",
   "id": "c7e233e0-9646-46c0-9418-e3723bcf0164",
   "metadata": {},
   "source": [
    "## Variable Tensor"
   ]
  },
  {
   "cell_type": "code",
   "execution_count": 16,
   "id": "01fcd396-3a35-458e-996f-9956dea66719",
   "metadata": {},
   "outputs": [
    {
     "name": "stdout",
     "output_type": "stream",
     "text": [
      "<tf.Variable 'Variable:0' shape=() dtype=int32, numpy=25>\n",
      "<tf.Variable 'Variable:0' shape=() dtype=int32, numpy=45>\n",
      "<tf.Variable 'Variable:0' shape=() dtype=string, numpy=b'Hello'>\n"
     ]
    },
    {
     "data": {
      "text/plain": [
       "<tf.Variable 'UnreadVariable' shape=() dtype=string, numpy=b'Hello Tensorflow'>"
      ]
     },
     "execution_count": 16,
     "metadata": {},
     "output_type": "execute_result"
    }
   ],
   "source": [
    "# tf.Variable(value,dtype,name=\"\")\n",
    "v1 = tf.Variable(25)\n",
    "print(v1)\n",
    "# Change the value from 25 --> 45 using assign\n",
    "v1.assign(45)\n",
    "print(v1)\n",
    "v1 = tf.Variable('Hello')\n",
    "print(v1)\n",
    "v1.assign('Hello Tensorflow')"
   ]
  },
  {
   "cell_type": "markdown",
   "id": "5f42b7ee-3107-43dd-9909-f46bc5d13625",
   "metadata": {},
   "source": [
    "### Creating Tensor with Arrays"
   ]
  },
  {
   "cell_type": "code",
   "execution_count": 21,
   "id": "84155ac0-5eff-4ee0-b3bd-1de5544c5917",
   "metadata": {},
   "outputs": [
    {
     "name": "stdout",
     "output_type": "stream",
     "text": [
      "tf.Tensor([10 11 12 14], shape=(4,), dtype=int32)\n",
      "tf.Tensor(\n",
      "[[1 2 3 4]\n",
      " [4 3 2 1]], shape=(2, 4), dtype=int32)\n",
      "<tf.Variable 'Variable:0' shape=(1, 3, 4) dtype=int32, numpy=\n",
      "array([[[ 1,  2,  3,  4],\n",
      "        [ 4,  3,  2,  1],\n",
      "        [11, 12, 13, 14]]])>\n"
     ]
    }
   ],
   "source": [
    "arr1 = tf.constant([10,11,12,14])\n",
    "print(arr1)\n",
    "arr2 = tf.constant([[1,2,3,4],[4,3,2,1]])\n",
    "print(arr2)\n",
    "arr3 = tf.Variable([[[1,2,3,4],[4,3,2,1],[11,12,13,14]]])\n",
    "print(arr3)"
   ]
  },
  {
   "cell_type": "code",
   "execution_count": 28,
   "id": "e6b00bbd-9347-4c50-b9fe-169cedad6daf",
   "metadata": {},
   "outputs": [
    {
     "name": "stdout",
     "output_type": "stream",
     "text": [
      "arr3: Variable:0\n",
      "arr2: (2, 4)\n",
      "arr1 <dtype: 'int32'>\n"
     ]
    }
   ],
   "source": [
    "# We can check properties of an array us:-\n",
    "print('arr3:',arr3.name)\n",
    "print('arr2:',arr2.shape)\n",
    "print('arr1',arr1.dtype)"
   ]
  },
  {
   "cell_type": "markdown",
   "id": "0e159644-4b04-4d81-b071-9bcede802826",
   "metadata": {},
   "source": [
    "### Common Operations\n",
    "- tf.add(a,b)\n",
    "- tf.substract(a,b)\n",
    "- tf.multiply(a,b)\n",
    "- tf.div(a,b)\n",
    "- tf.pow(a,b)\n",
    "- tf.exp(a)\n",
    "- tf.sqrt(a)\n",
    "- tf.matmul(a,b) -> performs matrix multiplication on two matrices"
   ]
  },
  {
   "cell_type": "code",
   "execution_count": 32,
   "id": "d6ad13db-9b7d-481f-835f-761eed284d0b",
   "metadata": {},
   "outputs": [
    {
     "name": "stdout",
     "output_type": "stream",
     "text": [
      "tf.Tensor(300, shape=(), dtype=int32)\n"
     ]
    }
   ],
   "source": [
    "# Program to add two numbers using tensorflow\n",
    "a = tf.constant(100)\n",
    "b = tf.constant(200)\n",
    "c = tf.add(a,b)\n",
    "print(c)"
   ]
  },
  {
   "cell_type": "markdown",
   "id": "637842eb-0027-40e9-99db-8f920addd3ad",
   "metadata": {},
   "source": [
    "# Keras\n",
    "#####  Keras is used widely while creating models and Layers for ANN\n",
    "### Layers in Keras\n",
    "- Dense Layer\n",
    "- Dropout Layer\n",
    "- Flatten Layer\n",
    "- Pooling Layer\n",
    "- Convolution Layer\n",
    "#### While Creating ANN we need to create the layers one by one and add them up sequentially so that the network is formed\n",
    "- for this purpose we have Sequential Class in tensorflow.keras"
   ]
  },
  {
   "cell_type": "code",
   "execution_count": 39,
   "id": "e8e2c8c8-0883-4dbc-929c-91793446a1d0",
   "metadata": {},
   "outputs": [],
   "source": [
    "# Dense Layer\n",
    "from tensorflow.keras.models import Sequential\n",
    "model = Sequential()"
   ]
  },
  {
   "cell_type": "markdown",
   "id": "fb20bb15-4107-4592-90c0-fddde72d5527",
   "metadata": {},
   "source": [
    "## Dense Layer\n",
    "- It is widely used layer for creating Deep Neural Networks. \n",
    "- Each of the neurons of this layer(Dense) receives input from all the neurons of the previous layers.\n",
    "- It performs dot product for all the inputs along with weights for obtaining output"
   ]
  },
  {
   "cell_type": "code",
   "execution_count": 42,
   "id": "d825a898-0e07-4db8-8374-569b1aa8d8ed",
   "metadata": {},
   "outputs": [],
   "source": [
    "from tensorflow.keras.layers import Dense\n",
    "# Define a simple model using the Sequential Class\n",
    "model = Sequential([\n",
    "    Dense(32, activation='relu', input_shape=(784,)),  # First hidden layer\n",
    "    Dense(10, activation='softmax')  # Output layer\n",
    "])\n"
   ]
  },
  {
   "cell_type": "markdown",
   "id": "b6bcd598-1480-46cc-a787-6b49a62534d5",
   "metadata": {},
   "source": [
    "## Dropout Layer\n",
    "- Dropout layer will remove some of the node from functioning\n",
    "- Input data may contain some unwanted data or duplicate data called noise\n",
    "- Dropout layer removes noise thus preventing overfitting"
   ]
  },
  {
   "cell_type": "code",
   "execution_count": 43,
   "id": "0b522068-697a-4a49-a26f-6d9b95c4211f",
   "metadata": {},
   "outputs": [],
   "source": [
    "from tensorflow.keras.layers import Dropout\n",
    "\n",
    "# Define a simple model using the Sequential Class\n",
    "model = Sequential([\n",
    "    Dense(128, activation='relu', input_shape=(784,)),  # First hidden layer\n",
    "    Dropout(0.2),  # 20% of the neurons will be dropped during training\n",
    "    Dense(10, activation='softmax')  # Output layer\n",
    "])\n"
   ]
  },
  {
   "cell_type": "markdown",
   "id": "7fa5174f-b4db-4b48-be66-224c47a06186",
   "metadata": {},
   "source": [
    "## Flatten Layer\n",
    "- Flatten is used to convert a multi-dimensional input into a one-dimensional output.\n",
    "- It is typically used after convolutional and pooling layers to feed the data into fully connected layers (Dense layers).\n",
    "- The Flatten layer does not learn any parameters, it simply reshapes the data."
   ]
  },
  {
   "cell_type": "markdown",
   "id": "46dc8741-3ad0-4a93-998e-9d658a526a06",
   "metadata": {},
   "source": [
    "## Pooling Layer\n",
    "- Pooling is used to reduce the spatial dimensions (width and height) of the input, while retaining the most important information.\n",
    "- The two most common types of pooling are MaxPooling and AveragePooling:\n",
    "- MaxPooling: Takes the maximum value from a defined window.\n",
    "- AveragePooling: Takes the average value from the window.\n",
    "- Pooling helps reduce computation and overfitting by reducing the dimensionality."
   ]
  },
  {
   "cell_type": "markdown",
   "id": "677d24b4-d808-4749-b3c2-77f28fbe447a",
   "metadata": {},
   "source": [
    "## Convolution Layer\n",
    "- Convolution layers are the core building blocks of Convolutional Neural Networks (CNNs).\n",
    "- They apply a set of learnable filters (kernels) to the input to create feature maps.\n",
    "- Each filter scans across the input image and detects specific - patterns like edges, textures, or shapes.\n",
    "- Convolution layers help preserve the spatial structure of data, unlike Dense layers which flatten the input.\n",
    "- The parameters for the convolution layer include the number of filters, filter size, and stride."
   ]
  },
  {
   "cell_type": "code",
   "execution_count": 45,
   "id": "69e69f8e-732d-48da-b65b-cd4c5152078a",
   "metadata": {},
   "outputs": [],
   "source": [
    "from tensorflow.keras.layers import Flatten\n",
    "from tensorflow.keras.layers import MaxPooling2D\n",
    "from tensorflow.keras.layers import Conv2D\n",
    "# Define a simple model using the Sequential Class\n",
    "model = Sequential([\n",
    "    Conv2D(32, (3, 3), activation='relu', input_shape=(28, 28, 1)),  # Convolution layer\n",
    "    MaxPooling2D(pool_size=(2, 2)),  # Pooling layer\n",
    "    Flatten(),  # Flatten the output of the previous layer to feed into the Dense layer\n",
    "    Dense(10, activation='softmax')  # Output layer\n",
    "])\n"
   ]
  },
  {
   "cell_type": "code",
   "execution_count": null,
   "id": "8d3591a3-1355-49be-b2ff-ad458dd6a25e",
   "metadata": {},
   "outputs": [],
   "source": []
  }
 ],
 "metadata": {
  "kernelspec": {
   "display_name": "Python 3 (ipykernel)",
   "language": "python",
   "name": "python3"
  },
  "language_info": {
   "codemirror_mode": {
    "name": "ipython",
    "version": 3
   },
   "file_extension": ".py",
   "mimetype": "text/x-python",
   "name": "python",
   "nbconvert_exporter": "python",
   "pygments_lexer": "ipython3",
   "version": "3.10.13"
  }
 },
 "nbformat": 4,
 "nbformat_minor": 5
}
